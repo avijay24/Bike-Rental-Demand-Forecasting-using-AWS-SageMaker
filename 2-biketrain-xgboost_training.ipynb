{
 "cells": [
  {
   "cell_type": "code",
   "execution_count": 1,
   "id": "10a2f457",
   "metadata": {},
   "outputs": [
    {
     "name": "stdout",
     "output_type": "stream",
     "text": [
      "sagemaker.config INFO - Not applying SDK defaults from location: /etc/xdg/sagemaker/config.yaml\n",
      "sagemaker.config INFO - Not applying SDK defaults from location: /home/ec2-user/.config/sagemaker/config.yaml\n"
     ]
    }
   ],
   "source": [
    "import numpy as np\n",
    "import pandas as pd\n",
    "\n",
    "# Define IAM Roles\n",
    "import boto3\n",
    "import re\n",
    "import sagemaker\n",
    "from sagemaker import get_execution_role"
   ]
  },
  {
   "cell_type": "code",
   "execution_count": 2,
   "id": "8430cba4",
   "metadata": {},
   "outputs": [],
   "source": [
    "bucket_name= 'ani-sagemaker-edu' # create an S3 bucket\n",
    "training_file_key = 'biketrain/bike_train.csv'\n",
    "validation_file_key = 'biketrain/bike_val.csv'\n",
    "test_file_key = 'biketrain/bike_test.csv'"
   ]
  },
  {
   "cell_type": "code",
   "execution_count": 3,
   "id": "9f134f17",
   "metadata": {},
   "outputs": [],
   "source": [
    "s3_model_output_location = r's3://{0}/biketrain/model'.format(bucket_name)\n",
    "s3_training_file_location = r's3://{0}/{1}'.format(bucket_name, training_file_key)\n",
    "s3_validation_file_location = r's3://{0}/{1}'.format(bucket_name, validation_file_key)\n",
    "s3_test_file_location = r's3://{0}/{1}'.format(bucket_name, test_file_key)\n"
   ]
  },
  {
   "cell_type": "code",
   "execution_count": 4,
   "id": "a4de47ff",
   "metadata": {},
   "outputs": [
    {
     "name": "stdout",
     "output_type": "stream",
     "text": [
      "s3://ani-sagemaker-edu/biketrain/model\n",
      "s3://ani-sagemaker-edu/biketrain/bike_train.csv\n",
      "s3://ani-sagemaker-edu/biketrain/bike_val.csv\n",
      "s3://ani-sagemaker-edu/biketrain/bike_test.csv\n"
     ]
    }
   ],
   "source": [
    "print(s3_model_output_location)\n",
    "print(s3_training_file_location)\n",
    "print(s3_validation_file_location)\n",
    "print(s3_test_file_location)"
   ]
  },
  {
   "cell_type": "code",
   "execution_count": 5,
   "id": "70eabb66",
   "metadata": {},
   "outputs": [],
   "source": [
    "# S3 naming Conventions\n",
    "# files = objects in S3\n",
    "# filename = key name in S3\n",
    "\n",
    "def write_to_s3(filename, bucket, key):\n",
    "    with open(filename, 'rb') as f: # Read in binary mode\n",
    "            return boto3.Session().resource('s3').Bucket(bucket).Object(key).upload_fileobj(f)"
   ]
  },
  {
   "cell_type": "code",
   "execution_count": 6,
   "id": "fb4fd48f",
   "metadata": {},
   "outputs": [],
   "source": [
    "write_to_s3('bike_train.csv', bucket_name, training_file_key)\n",
    "write_to_s3('bike_val.csv', bucket_name, validation_file_key)\n",
    "write_to_s3('bike_test.csv', bucket_name, test_file_key)"
   ]
  },
  {
   "cell_type": "markdown",
   "id": "d2b5b666",
   "metadata": {},
   "source": [
    "### Training Algorithm Docker Image\n",
    "\n",
    "\n",
    "AWS maintains a separate image for every region and algorithm"
   ]
  },
  {
   "cell_type": "code",
   "execution_count": 7,
   "id": "900f690f",
   "metadata": {},
   "outputs": [],
   "source": [
    "# Registry patch for algorithms provided by SageMaker\n",
    "# https://docs.aws.amazon.com/sagemaker/latest/dg/sagemaker-algo-docker-registry-paths.html\n",
    "\n",
    "containers = {'us-east-1':'683313688378.dkr.ecr.us-east-1.amazonaws.com/sagemaker-xgboost:1.5-1'} # N.virginia"
   ]
  },
  {
   "cell_type": "code",
   "execution_count": 8,
   "id": "ab7a0715",
   "metadata": {},
   "outputs": [
    {
     "name": "stdout",
     "output_type": "stream",
     "text": [
      "sagemaker.config INFO - Not applying SDK defaults from location: /etc/xdg/sagemaker/config.yaml\n",
      "sagemaker.config INFO - Not applying SDK defaults from location: /home/ec2-user/.config/sagemaker/config.yaml\n"
     ]
    }
   ],
   "source": [
    "role = get_execution_role()"
   ]
  },
  {
   "cell_type": "code",
   "execution_count": 9,
   "id": "ed38682d",
   "metadata": {},
   "outputs": [
    {
     "name": "stdout",
     "output_type": "stream",
     "text": [
      "arn:aws:iam::205653679088:role/service-role/AmazonSageMaker-ExecutionRole-20231012T130147\n"
     ]
    }
   ],
   "source": [
    "# This role contains the permissions needed to train, deploy models\n",
    "# SageMaker Service is trusted to assume this role\n",
    "print(role)"
   ]
  },
  {
   "cell_type": "markdown",
   "id": "239f7d92",
   "metadata": {},
   "source": [
    "### Build Model"
   ]
  },
  {
   "cell_type": "code",
   "execution_count": 10,
   "id": "a6d9c9ef",
   "metadata": {},
   "outputs": [
    {
     "name": "stdout",
     "output_type": "stream",
     "text": [
      "sagemaker.config INFO - Not applying SDK defaults from location: /etc/xdg/sagemaker/config.yaml\n",
      "sagemaker.config INFO - Not applying SDK defaults from location: /home/ec2-user/.config/sagemaker/config.yaml\n"
     ]
    }
   ],
   "source": [
    "sess = sagemaker.Session()"
   ]
  },
  {
   "cell_type": "code",
   "execution_count": 11,
   "id": "af2c5357",
   "metadata": {},
   "outputs": [],
   "source": [
    "# Access appropriate algorithm container image\n",
    "# Specify how many instances to use for distributed training and what type of machine to use\n",
    "# finally specify where the trained model artifacts needs to be stored\n",
    "# reference: http://sagemaker.readthedocs.io/en/latest/estimators.html\n",
    "# Optionally, give a name to the training job using the base_job_name\n",
    "\n",
    "estimator = sagemaker.estimator.Estimator(containers[boto3.Session().region_name],\n",
    "                                         role,\n",
    "                                         instance_count = 1,\n",
    "                                         instance_type = 'ml.m4.xlarge',\n",
    "                                         output_path = s3_model_output_location,\n",
    "                                         sagemaker_session = sess,\n",
    "                                         base_job_name = 'xgboost-biketrain-vl')"
   ]
  },
  {
   "cell_type": "code",
   "execution_count": 35,
   "id": "b8f6d03d",
   "metadata": {},
   "outputs": [],
   "source": [
    "from sagemaker.debugger import rule_configs, Rule, DebuggerHookConfig, CollectionConfig\n",
    "from sagemaker.estimator import Estimator\n",
    "save_interval = 5\n",
    "\n",
    "estimator = sagemaker.estimator.Estimator(containers[boto3.Session().region_name],\n",
    "                                         role,\n",
    "                                         instance_count = 1,\n",
    "                                         instance_type = 'ml.m4.xlarge',\n",
    "                                         output_path = s3_model_output_location,\n",
    "                                         sagemaker_session = sess,\n",
    "                                         base_job_name = 'xgboost-biketrain-vl',\n",
    "                                          debugger_hook_config=DebuggerHookConfig(\n",
    "                                                s3_output_path=s3_model_output_location,  # Required\n",
    "                                                collection_configs=[\n",
    "                                                    CollectionConfig(name=\"metrics\", parameters={\"save_interval\": str(save_interval)}),\n",
    "                                                    CollectionConfig(\n",
    "                                                        name=\"feature_importance\", parameters={\"save_interval\": str(save_interval)}\n",
    "                                                    ),\n",
    "                                                    CollectionConfig(name=\"full_shap\", parameters={\"save_interval\": str(save_interval)}),\n",
    "                                                    CollectionConfig(name=\"average_shap\", parameters={\"save_interval\": str(save_interval)}),\n",
    "                                                ],\n",
    "                                            ),\n",
    "                                            rules=[\n",
    "                                                Rule.sagemaker(\n",
    "                                                    rule_configs.loss_not_decreasing(),\n",
    "                                                    rule_parameters={\n",
    "                                                        \"collection_names\": \"metrics\",\n",
    "                                                        \"num_steps\": str(save_interval * 2),\n",
    "                                                    },\n",
    "                                                ),\n",
    "                                            ],\n",
    "                                         )"
   ]
  },
  {
   "cell_type": "code",
   "execution_count": 36,
   "id": "9178270d",
   "metadata": {},
   "outputs": [
    {
     "data": {
      "text/plain": [
       "{'max_depth': 5,\n",
       " 'objective': 'reg:linear',\n",
       " 'eta': 0.1,\n",
       " 'subsample': 0.7,\n",
       " 'num_round': 200}"
      ]
     },
     "execution_count": 36,
     "metadata": {},
     "output_type": "execute_result"
    }
   ],
   "source": [
    "# Specify hyperparameters that appropriate for the training algorithm\n",
    "# XGBoost Training Parameters\n",
    "\n",
    "#max_depth = 5, eta = 0.1, subsample = 0.7, num_round = 150\n",
    "estimator.set_hyperparameters(max_depth = 5, objective = \"reg:linear\", eta = 0.1, subsample = 0.7, num_round = 200)\n",
    "estimator.hyperparameters()"
   ]
  },
  {
   "cell_type": "code",
   "execution_count": 20,
   "id": "34bc0ba4",
   "metadata": {},
   "outputs": [],
   "source": [
    "# not for execution\n",
    "# How to specify hyperparameters for autotuning\n",
    "\n",
    "# hyperparameter_ranges_linear = {\n",
    "# 'alpha':ContinuousParameterRange(0.01, 10, scaling_type = \"Linear\"),\n",
    "# 'lambda':ContinuousParameterRange(0.01, 10, scaling_type = \"Linear\"),\n",
    "# 'num_round':ContinuousParameterRange(1, 200, scaling_type = \"Linear\")\n",
    "# }\n",
    "\n",
    "\n",
    "# tuner_linear = HyperparameterTuner(\n",
    "#                 estimator,\n",
    "#                 objective_metric_name,\n",
    "#                 hyperparameter_ranges_linear,\n",
    "#                 max_jobs = 20,\n",
    "#                 max_parallel_jobs = 10,\n",
    "#                 strategy= 'Random')\n",
    "\n",
    "\n",
    "# tuner_linear.fit({'train': s3_input_train, 'validation': s3_input_validation}, include_cls_metadata = False)\n"
   ]
  },
  {
   "cell_type": "markdown",
   "id": "5aac2030",
   "metadata": {},
   "source": [
    "### Specify Training Data Location and Optionally, Validation Data Location"
   ]
  },
  {
   "cell_type": "code",
   "execution_count": 37,
   "id": "fc1b1f71",
   "metadata": {},
   "outputs": [],
   "source": [
    "# content type can be libsvm or csv for XGBoost\n",
    "#training_input_config = sagemaker.session.s3_input(s3_data = s3_training_file_location, content_type = \"csv\")\n",
    "#validation_input_config = sagemaker.session.s3_input(s3_data = s3_validation_file_location, content_type = \"csv\")\n",
    "\n",
    "training_input_config = sagemaker.inputs.TrainingInput(s3_data = s3_training_file_location, content_type = \"csv\")\n",
    "validation_input_config = sagemaker.inputs.TrainingInput(s3_data = s3_validation_file_location, content_type = \"csv\")"
   ]
  },
  {
   "cell_type": "code",
   "execution_count": 38,
   "id": "f80f1b37",
   "metadata": {},
   "outputs": [
    {
     "name": "stdout",
     "output_type": "stream",
     "text": [
      "{'DataSource': {'S3DataSource': {'S3DataType': 'S3Prefix', 'S3Uri': 's3://ani-sagemaker-edu/biketrain/bike_train.csv', 'S3DataDistributionType': 'FullyReplicated'}}, 'ContentType': 'csv'}\n",
      "{'DataSource': {'S3DataSource': {'S3DataType': 'S3Prefix', 'S3Uri': 's3://ani-sagemaker-edu/biketrain/bike_val.csv', 'S3DataDistributionType': 'FullyReplicated'}}, 'ContentType': 'csv'}\n"
     ]
    }
   ],
   "source": [
    "print(training_input_config.config)\n",
    "print(validation_input_config.config)"
   ]
  },
  {
   "cell_type": "markdown",
   "id": "57924b65",
   "metadata": {},
   "source": [
    "### Train the model"
   ]
  },
  {
   "cell_type": "code",
   "execution_count": 39,
   "id": "862111ca",
   "metadata": {},
   "outputs": [
    {
     "name": "stderr",
     "output_type": "stream",
     "text": [
      "INFO:sagemaker.image_uris:Defaulting to the only supported framework/algorithm version: latest.\n",
      "INFO:sagemaker.image_uris:Ignoring unnecessary instance type: None.\n",
      "INFO:sagemaker:Creating training-job with name: xgboost-biketrain-vl-2023-10-27-19-28-14-340\n"
     ]
    },
    {
     "name": "stdout",
     "output_type": "stream",
     "text": [
      "2023-10-27 19:28:14 Starting - Starting the training job...LossNotDecreasing: InProgress\n",
      "......\n",
      "2023-10-27 19:29:32 Starting - Preparing the instances for training......\n",
      "2023-10-27 19:30:45 Downloading - Downloading input data......\n",
      "2023-10-27 19:31:32 Training - Downloading the training image...\n",
      "2023-10-27 19:32:12 Training - Training image download completed. Training in progress...\u001b[34m[2023-10-27 19:32:19.248 ip-10-2-195-249.ec2.internal:7 INFO utils.py:28] RULE_JOB_STOP_SIGNAL_FILENAME: None\u001b[0m\n",
      "\u001b[34m[2023-10-27 19:32:19.281 ip-10-2-195-249.ec2.internal:7 INFO profiler_config_parser.py:111] User has disabled profiler.\u001b[0m\n",
      "\u001b[34m[2023-10-27:19:32:19:INFO] Imported framework sagemaker_xgboost_container.training\u001b[0m\n",
      "\u001b[34m[2023-10-27:19:32:19:INFO] Failed to parse hyperparameter objective value reg:linear to Json.\u001b[0m\n",
      "\u001b[34mReturning the value itself\u001b[0m\n",
      "\u001b[34m[2023-10-27:19:32:19:INFO] No GPUs detected (normal if no gpus installed)\u001b[0m\n",
      "\u001b[34m[2023-10-27:19:32:19:INFO] Running XGBoost Sagemaker in algorithm mode\u001b[0m\n",
      "\u001b[34m[2023-10-27:19:32:19:INFO] Determined 0 GPU(s) available on the instance.\u001b[0m\n",
      "\u001b[34m[2023-10-27:19:32:19:INFO] Determined delimiter of CSV input is ','\u001b[0m\n",
      "\u001b[34m[2023-10-27:19:32:19:INFO] Determined delimiter of CSV input is ','\u001b[0m\n",
      "\u001b[34m[2023-10-27:19:32:19:INFO] files path: /opt/ml/input/data/train\u001b[0m\n",
      "\u001b[34m[2023-10-27:19:32:19:INFO] Determined delimiter of CSV input is ','\u001b[0m\n",
      "\u001b[34m[2023-10-27:19:32:19:INFO] files path: /opt/ml/input/data/validation\u001b[0m\n",
      "\u001b[34m[2023-10-27:19:32:19:INFO] Determined delimiter of CSV input is ','\u001b[0m\n",
      "\u001b[34m[2023-10-27:19:32:19:INFO] Single node training.\u001b[0m\n",
      "\u001b[34m[2023-10-27:19:32:19:INFO] Train matrix has 7620 rows and 13 columns\u001b[0m\n",
      "\u001b[34m[2023-10-27:19:32:19:INFO] Validation matrix has 3266 rows\u001b[0m\n",
      "\u001b[34m[2023-10-27 19:32:19.809 ip-10-2-195-249.ec2.internal:7 INFO json_config.py:92] Creating hook from json_config at /opt/ml/input/config/debughookconfig.json.\u001b[0m\n",
      "\u001b[34m[2023-10-27 19:32:19.810 ip-10-2-195-249.ec2.internal:7 INFO hook.py:206] tensorboard_dir has not been set for the hook. SMDebug will not be exporting tensorboard summaries.\u001b[0m\n",
      "\u001b[34m[2023-10-27 19:32:19.811 ip-10-2-195-249.ec2.internal:7 INFO hook.py:259] Saving to /opt/ml/output/tensors\u001b[0m\n",
      "\u001b[34m[2023-10-27 19:32:19.811 ip-10-2-195-249.ec2.internal:7 INFO state_store.py:77] The checkpoint config file /opt/ml/input/config/checkpointconfig.json does not exist.\u001b[0m\n",
      "\u001b[34m[2023-10-27:19:32:19:INFO] Debug hook created from config\u001b[0m\n",
      "\u001b[34m[19:32:19] WARNING: ../src/objective/regression_obj.cu:188: reg:linear is now deprecated in favor of reg:squarederror.\u001b[0m\n",
      "\u001b[34m[0]#011train-rmse:3.90570#011validation-rmse:3.91564\u001b[0m\n",
      "\u001b[34m[2023-10-27 19:32:19.864 ip-10-2-195-249.ec2.internal:7 INFO hook.py:427] Monitoring the collections: feature_importance, metrics, losses, full_shap, average_shap\u001b[0m\n",
      "\u001b[34m[2023-10-27 19:32:19.867 ip-10-2-195-249.ec2.internal:7 INFO hook.py:491] Hook is writing from the hook with pid: 7\u001b[0m\n",
      "\u001b[34m[1]#011train-rmse:3.52714#011validation-rmse:3.53522\u001b[0m\n",
      "\u001b[34m[2]#011train-rmse:3.18630#011validation-rmse:3.19342\u001b[0m\n",
      "\u001b[34m[3]#011train-rmse:2.87960#011validation-rmse:2.88581\u001b[0m\n",
      "\u001b[34m[4]#011train-rmse:2.60380#011validation-rmse:2.60928\u001b[0m\n",
      "\u001b[34m[5]#011train-rmse:2.35763#011validation-rmse:2.36228\u001b[0m\n",
      "\u001b[34m[6]#011train-rmse:2.13651#011validation-rmse:2.14069\u001b[0m\n",
      "\u001b[34m[7]#011train-rmse:1.93837#011validation-rmse:1.94222\u001b[0m\n",
      "\u001b[34m[8]#011train-rmse:1.75934#011validation-rmse:1.76412\u001b[0m\n",
      "\u001b[34m[9]#011train-rmse:1.59886#011validation-rmse:1.60299\u001b[0m\n",
      "\u001b[34m[10]#011train-rmse:1.45504#011validation-rmse:1.45899\u001b[0m\n",
      "\u001b[34m[11]#011train-rmse:1.32712#011validation-rmse:1.33113\u001b[0m\n",
      "\u001b[34m[12]#011train-rmse:1.21307#011validation-rmse:1.21746\u001b[0m\n",
      "\u001b[34m[13]#011train-rmse:1.10610#011validation-rmse:1.11128\u001b[0m\n",
      "\u001b[34m[14]#011train-rmse:1.01432#011validation-rmse:1.02000\u001b[0m\n",
      "\u001b[34m[15]#011train-rmse:0.93389#011validation-rmse:0.94011\u001b[0m\n",
      "\u001b[34m[16]#011train-rmse:0.86331#011validation-rmse:0.87032\u001b[0m\n",
      "\u001b[34m[17]#011train-rmse:0.79838#011validation-rmse:0.80551\u001b[0m\n",
      "\u001b[34m[18]#011train-rmse:0.73904#011validation-rmse:0.74696\u001b[0m\n",
      "\u001b[34m[19]#011train-rmse:0.68541#011validation-rmse:0.69528\u001b[0m\n",
      "\u001b[34m[20]#011train-rmse:0.64058#011validation-rmse:0.65102\u001b[0m\n",
      "\u001b[34m[21]#011train-rmse:0.60152#011validation-rmse:0.61294\u001b[0m\n",
      "\u001b[34m[22]#011train-rmse:0.56866#011validation-rmse:0.58065\u001b[0m\n",
      "\u001b[34m[23]#011train-rmse:0.53674#011validation-rmse:0.54959\u001b[0m\n",
      "\u001b[34m[24]#011train-rmse:0.50883#011validation-rmse:0.52247\u001b[0m\n",
      "\u001b[34m[25]#011train-rmse:0.48114#011validation-rmse:0.49623\u001b[0m\n",
      "\u001b[34m[26]#011train-rmse:0.45941#011validation-rmse:0.47554\u001b[0m\n",
      "\u001b[34m[27]#011train-rmse:0.44056#011validation-rmse:0.45717\u001b[0m\n",
      "\u001b[34m[28]#011train-rmse:0.42620#011validation-rmse:0.44342\u001b[0m\n",
      "\u001b[34m[29]#011train-rmse:0.41326#011validation-rmse:0.43116\u001b[0m\n",
      "\u001b[34m[30]#011train-rmse:0.40043#011validation-rmse:0.41948\u001b[0m\n",
      "\u001b[34m[31]#011train-rmse:0.38972#011validation-rmse:0.40947\u001b[0m\n",
      "\u001b[34m[32]#011train-rmse:0.37750#011validation-rmse:0.39780\u001b[0m\n",
      "\u001b[34m[33]#011train-rmse:0.37048#011validation-rmse:0.39135\u001b[0m\n",
      "\u001b[34m[34]#011train-rmse:0.36374#011validation-rmse:0.38510\u001b[0m\n",
      "\u001b[34m[35]#011train-rmse:0.35685#011validation-rmse:0.37881\u001b[0m\n",
      "\u001b[34m[36]#011train-rmse:0.35233#011validation-rmse:0.37485\u001b[0m\n",
      "\u001b[34m[37]#011train-rmse:0.34722#011validation-rmse:0.37012\u001b[0m\n",
      "\u001b[34m[38]#011train-rmse:0.34237#011validation-rmse:0.36600\u001b[0m\n",
      "\u001b[34m[39]#011train-rmse:0.33766#011validation-rmse:0.36135\u001b[0m\n",
      "\u001b[34m[40]#011train-rmse:0.33316#011validation-rmse:0.35791\u001b[0m\n",
      "\u001b[34m[41]#011train-rmse:0.32996#011validation-rmse:0.35522\u001b[0m\n",
      "\u001b[34m[42]#011train-rmse:0.32635#011validation-rmse:0.35227\u001b[0m\n",
      "\u001b[34m[43]#011train-rmse:0.32007#011validation-rmse:0.34671\u001b[0m\n",
      "\u001b[34m[44]#011train-rmse:0.31505#011validation-rmse:0.34202\u001b[0m\n",
      "\u001b[34m[45]#011train-rmse:0.31319#011validation-rmse:0.34053\u001b[0m\n",
      "\u001b[34m[46]#011train-rmse:0.31093#011validation-rmse:0.33865\u001b[0m\n",
      "\u001b[34m[47]#011train-rmse:0.30522#011validation-rmse:0.33342\u001b[0m\n",
      "\u001b[34m[48]#011train-rmse:0.30402#011validation-rmse:0.33261\u001b[0m\n",
      "\u001b[34m[49]#011train-rmse:0.30067#011validation-rmse:0.32985\u001b[0m\n",
      "\u001b[34m[50]#011train-rmse:0.29919#011validation-rmse:0.32876\u001b[0m\n",
      "\u001b[34m[51]#011train-rmse:0.29780#011validation-rmse:0.32797\u001b[0m\n",
      "\u001b[34m[52]#011train-rmse:0.29655#011validation-rmse:0.32711\u001b[0m\n",
      "\u001b[34m[53]#011train-rmse:0.29485#011validation-rmse:0.32563\u001b[0m\n",
      "\u001b[34m[54]#011train-rmse:0.29378#011validation-rmse:0.32531\u001b[0m\n",
      "\u001b[34m[55]#011train-rmse:0.29291#011validation-rmse:0.32473\u001b[0m\n",
      "\u001b[34m[56]#011train-rmse:0.29183#011validation-rmse:0.32394\u001b[0m\n",
      "\u001b[34m[57]#011train-rmse:0.29074#011validation-rmse:0.32307\u001b[0m\n",
      "\u001b[34m[58]#011train-rmse:0.28929#011validation-rmse:0.32194\u001b[0m\n",
      "\u001b[34m[59]#011train-rmse:0.28720#011validation-rmse:0.32067\u001b[0m\n",
      "\u001b[34m[60]#011train-rmse:0.28658#011validation-rmse:0.32045\u001b[0m\n",
      "\u001b[34m[61]#011train-rmse:0.28400#011validation-rmse:0.31820\u001b[0m\n",
      "\u001b[34m[62]#011train-rmse:0.28151#011validation-rmse:0.31595\u001b[0m\n",
      "\u001b[34m[63]#011train-rmse:0.27939#011validation-rmse:0.31402\u001b[0m\n",
      "\u001b[34m[64]#011train-rmse:0.27874#011validation-rmse:0.31364\u001b[0m\n",
      "\u001b[34m[65]#011train-rmse:0.27522#011validation-rmse:0.31011\u001b[0m\n",
      "\u001b[34m[66]#011train-rmse:0.27424#011validation-rmse:0.30943\u001b[0m\n",
      "\u001b[34m[67]#011train-rmse:0.27327#011validation-rmse:0.30909\u001b[0m\n",
      "\u001b[34m[68]#011train-rmse:0.27259#011validation-rmse:0.30864\u001b[0m\n",
      "\u001b[34m[69]#011train-rmse:0.26980#011validation-rmse:0.30602\u001b[0m\n",
      "\u001b[34m[70]#011train-rmse:0.26791#011validation-rmse:0.30440\u001b[0m\n",
      "\u001b[34m[71]#011train-rmse:0.26695#011validation-rmse:0.30405\u001b[0m\n",
      "\u001b[34m[72]#011train-rmse:0.26518#011validation-rmse:0.30268\u001b[0m\n",
      "\u001b[34m[73]#011train-rmse:0.26468#011validation-rmse:0.30229\u001b[0m\n",
      "\u001b[34m[74]#011train-rmse:0.26337#011validation-rmse:0.30112\u001b[0m\n",
      "\u001b[34m[75]#011train-rmse:0.26256#011validation-rmse:0.30048\u001b[0m\n",
      "\u001b[34m[76]#011train-rmse:0.26216#011validation-rmse:0.30028\u001b[0m\n",
      "\u001b[34m[77]#011train-rmse:0.26171#011validation-rmse:0.30017\u001b[0m\n",
      "\u001b[34m[78]#011train-rmse:0.26110#011validation-rmse:0.29991\u001b[0m\n",
      "\u001b[34m[79]#011train-rmse:0.26030#011validation-rmse:0.29934\u001b[0m\n",
      "\u001b[34m[80]#011train-rmse:0.25885#011validation-rmse:0.29822\u001b[0m\n",
      "\u001b[34m[81]#011train-rmse:0.25830#011validation-rmse:0.29787\u001b[0m\n",
      "\u001b[34m[82]#011train-rmse:0.25738#011validation-rmse:0.29759\u001b[0m\n",
      "\u001b[34m[83]#011train-rmse:0.25693#011validation-rmse:0.29740\u001b[0m\n",
      "\u001b[34m[84]#011train-rmse:0.25664#011validation-rmse:0.29739\u001b[0m\n",
      "\u001b[34m[85]#011train-rmse:0.25611#011validation-rmse:0.29707\u001b[0m\n",
      "\u001b[34m[86]#011train-rmse:0.25560#011validation-rmse:0.29674\u001b[0m\n",
      "\u001b[34m[87]#011train-rmse:0.25490#011validation-rmse:0.29631\u001b[0m\n",
      "\u001b[34m[88]#011train-rmse:0.25360#011validation-rmse:0.29525\u001b[0m\n",
      "\u001b[34m[89]#011train-rmse:0.25294#011validation-rmse:0.29476\u001b[0m\n",
      "\u001b[34m[90]#011train-rmse:0.25255#011validation-rmse:0.29466\u001b[0m\n"
     ]
    },
    {
     "name": "stdout",
     "output_type": "stream",
     "text": [
      "\u001b[34m[91]#011train-rmse:0.25196#011validation-rmse:0.29434\u001b[0m\n",
      "\u001b[34m[92]#011train-rmse:0.25152#011validation-rmse:0.29397\u001b[0m\n",
      "\u001b[34m[93]#011train-rmse:0.25092#011validation-rmse:0.29361\u001b[0m\n",
      "\u001b[34m[94]#011train-rmse:0.25028#011validation-rmse:0.29339\u001b[0m\n",
      "\u001b[34m[95]#011train-rmse:0.24956#011validation-rmse:0.29306\u001b[0m\n",
      "\u001b[34m[96]#011train-rmse:0.24867#011validation-rmse:0.29278\u001b[0m\n",
      "\u001b[34m[97]#011train-rmse:0.24796#011validation-rmse:0.29256\u001b[0m\n",
      "\u001b[34m[98]#011train-rmse:0.24741#011validation-rmse:0.29235\u001b[0m\n",
      "\u001b[34m[99]#011train-rmse:0.24705#011validation-rmse:0.29221\u001b[0m\n",
      "\u001b[34m[100]#011train-rmse:0.24681#011validation-rmse:0.29229\u001b[0m\n",
      "\u001b[34m[101]#011train-rmse:0.24603#011validation-rmse:0.29180\u001b[0m\n",
      "\u001b[34m[102]#011train-rmse:0.24534#011validation-rmse:0.29154\u001b[0m\n",
      "\u001b[34m[103]#011train-rmse:0.24486#011validation-rmse:0.29125\u001b[0m\n",
      "\u001b[34m[104]#011train-rmse:0.24422#011validation-rmse:0.29078\u001b[0m\n",
      "\u001b[34m[105]#011train-rmse:0.24354#011validation-rmse:0.29057\u001b[0m\n",
      "\u001b[34m[106]#011train-rmse:0.24292#011validation-rmse:0.29063\u001b[0m\n",
      "\u001b[34m[107]#011train-rmse:0.24238#011validation-rmse:0.29046\u001b[0m\n",
      "\u001b[34m[108]#011train-rmse:0.24192#011validation-rmse:0.29024\u001b[0m\n",
      "\u001b[34m[109]#011train-rmse:0.24139#011validation-rmse:0.29002\u001b[0m\n",
      "\u001b[34m[110]#011train-rmse:0.24123#011validation-rmse:0.29007\u001b[0m\n",
      "\u001b[34m[111]#011train-rmse:0.24053#011validation-rmse:0.28962\u001b[0m\n",
      "\u001b[34m[112]#011train-rmse:0.24000#011validation-rmse:0.28935\u001b[0m\n",
      "\u001b[34m[113]#011train-rmse:0.23958#011validation-rmse:0.28932\u001b[0m\n",
      "\u001b[34m[114]#011train-rmse:0.23934#011validation-rmse:0.28939\u001b[0m\n",
      "\u001b[34m[115]#011train-rmse:0.23881#011validation-rmse:0.28914\u001b[0m\n",
      "\u001b[34m[116]#011train-rmse:0.23838#011validation-rmse:0.28893\u001b[0m\n",
      "\u001b[34m[117]#011train-rmse:0.23799#011validation-rmse:0.28873\u001b[0m\n",
      "\u001b[34m[118]#011train-rmse:0.23744#011validation-rmse:0.28857\u001b[0m\n",
      "\u001b[34m[119]#011train-rmse:0.23719#011validation-rmse:0.28855\u001b[0m\n",
      "\u001b[34m[120]#011train-rmse:0.23661#011validation-rmse:0.28852\u001b[0m\n",
      "\u001b[34m[121]#011train-rmse:0.23620#011validation-rmse:0.28825\u001b[0m\n",
      "\u001b[34m[122]#011train-rmse:0.23587#011validation-rmse:0.28805\u001b[0m\n",
      "\u001b[34m[123]#011train-rmse:0.23532#011validation-rmse:0.28774\u001b[0m\n",
      "\u001b[34m[124]#011train-rmse:0.23470#011validation-rmse:0.28744\u001b[0m\n",
      "\u001b[34m[125]#011train-rmse:0.23445#011validation-rmse:0.28738\u001b[0m\n",
      "\u001b[34m[126]#011train-rmse:0.23402#011validation-rmse:0.28712\u001b[0m\n",
      "\u001b[34m[127]#011train-rmse:0.23331#011validation-rmse:0.28704\u001b[0m\n",
      "\u001b[34m[128]#011train-rmse:0.23303#011validation-rmse:0.28698\u001b[0m\n",
      "\u001b[34m[129]#011train-rmse:0.23260#011validation-rmse:0.28696\u001b[0m\n",
      "\u001b[34m[130]#011train-rmse:0.23197#011validation-rmse:0.28670\u001b[0m\n",
      "\u001b[34m[131]#011train-rmse:0.23155#011validation-rmse:0.28650\u001b[0m\n",
      "\u001b[34m[132]#011train-rmse:0.23117#011validation-rmse:0.28646\u001b[0m\n",
      "\u001b[34m[133]#011train-rmse:0.23074#011validation-rmse:0.28635\u001b[0m\n",
      "\u001b[34m[134]#011train-rmse:0.23047#011validation-rmse:0.28635\u001b[0m\n",
      "\u001b[34m[135]#011train-rmse:0.22992#011validation-rmse:0.28619\u001b[0m\n",
      "\u001b[34m[136]#011train-rmse:0.22949#011validation-rmse:0.28601\u001b[0m\n",
      "\u001b[34m[137]#011train-rmse:0.22908#011validation-rmse:0.28587\u001b[0m\n",
      "\u001b[34m[138]#011train-rmse:0.22884#011validation-rmse:0.28581\u001b[0m\n",
      "\u001b[34m[139]#011train-rmse:0.22834#011validation-rmse:0.28574\u001b[0m\n",
      "\u001b[34m[140]#011train-rmse:0.22814#011validation-rmse:0.28562\u001b[0m\n",
      "\u001b[34m[141]#011train-rmse:0.22704#011validation-rmse:0.28496\u001b[0m\n",
      "\u001b[34m[142]#011train-rmse:0.22639#011validation-rmse:0.28461\u001b[0m\n",
      "\u001b[34m[143]#011train-rmse:0.22623#011validation-rmse:0.28458\u001b[0m\n",
      "\u001b[34m[144]#011train-rmse:0.22575#011validation-rmse:0.28436\u001b[0m\n",
      "\u001b[34m[145]#011train-rmse:0.22519#011validation-rmse:0.28401\u001b[0m\n",
      "\u001b[34m[146]#011train-rmse:0.22488#011validation-rmse:0.28392\u001b[0m\n",
      "\u001b[34m[147]#011train-rmse:0.22459#011validation-rmse:0.28392\u001b[0m\n",
      "\u001b[34m[148]#011train-rmse:0.22426#011validation-rmse:0.28388\u001b[0m\n",
      "\u001b[34m[149]#011train-rmse:0.22393#011validation-rmse:0.28379\u001b[0m\n",
      "\u001b[34m[150]#011train-rmse:0.22350#011validation-rmse:0.28381\u001b[0m\n",
      "\u001b[34m[151]#011train-rmse:0.22301#011validation-rmse:0.28372\u001b[0m\n",
      "\u001b[34m[152]#011train-rmse:0.22257#011validation-rmse:0.28336\u001b[0m\n",
      "\u001b[34m[153]#011train-rmse:0.22224#011validation-rmse:0.28324\u001b[0m\n",
      "\u001b[34m[154]#011train-rmse:0.22184#011validation-rmse:0.28320\u001b[0m\n",
      "\u001b[34m[155]#011train-rmse:0.22143#011validation-rmse:0.28321\u001b[0m\n",
      "\u001b[34m[156]#011train-rmse:0.22125#011validation-rmse:0.28313\u001b[0m\n",
      "\u001b[34m[157]#011train-rmse:0.22095#011validation-rmse:0.28314\u001b[0m\n",
      "\u001b[34m[158]#011train-rmse:0.22066#011validation-rmse:0.28317\u001b[0m\n",
      "\u001b[34m[159]#011train-rmse:0.22054#011validation-rmse:0.28314\u001b[0m\n",
      "\u001b[34m[160]#011train-rmse:0.22017#011validation-rmse:0.28311\u001b[0m\n",
      "\u001b[34m[161]#011train-rmse:0.21981#011validation-rmse:0.28274\u001b[0m\n",
      "\u001b[34m[162]#011train-rmse:0.21966#011validation-rmse:0.28265\u001b[0m\n",
      "\u001b[34m[163]#011train-rmse:0.21940#011validation-rmse:0.28249\u001b[0m\n",
      "\u001b[34m[164]#011train-rmse:0.21904#011validation-rmse:0.28239\u001b[0m\n",
      "\u001b[34m[165]#011train-rmse:0.21860#011validation-rmse:0.28217\u001b[0m\n",
      "\u001b[34m[166]#011train-rmse:0.21843#011validation-rmse:0.28218\u001b[0m\n",
      "\u001b[34m[167]#011train-rmse:0.21809#011validation-rmse:0.28231\u001b[0m\n",
      "\u001b[34m[168]#011train-rmse:0.21770#011validation-rmse:0.28243\u001b[0m\n",
      "\u001b[34m[169]#011train-rmse:0.21733#011validation-rmse:0.28237\u001b[0m\n",
      "\u001b[34m[170]#011train-rmse:0.21710#011validation-rmse:0.28221\u001b[0m\n",
      "\u001b[34m[171]#011train-rmse:0.21676#011validation-rmse:0.28202\u001b[0m\n",
      "\u001b[34m[172]#011train-rmse:0.21640#011validation-rmse:0.28182\u001b[0m\n",
      "\u001b[34m[173]#011train-rmse:0.21613#011validation-rmse:0.28176\u001b[0m\n",
      "\u001b[34m[174]#011train-rmse:0.21580#011validation-rmse:0.28193\u001b[0m\n",
      "\u001b[34m[175]#011train-rmse:0.21546#011validation-rmse:0.28189\u001b[0m\n",
      "\u001b[34m[176]#011train-rmse:0.21497#011validation-rmse:0.28156\u001b[0m\n",
      "\u001b[34m[177]#011train-rmse:0.21450#011validation-rmse:0.28165\u001b[0m\n",
      "\u001b[34m[178]#011train-rmse:0.21418#011validation-rmse:0.28166\u001b[0m\n",
      "\u001b[34m[179]#011train-rmse:0.21388#011validation-rmse:0.28180\u001b[0m\n",
      "\u001b[34m[180]#011train-rmse:0.21357#011validation-rmse:0.28175\u001b[0m\n",
      "\u001b[34m[181]#011train-rmse:0.21317#011validation-rmse:0.28173\u001b[0m\n",
      "\u001b[34m[182]#011train-rmse:0.21283#011validation-rmse:0.28177\u001b[0m\n",
      "\u001b[34m[183]#011train-rmse:0.21243#011validation-rmse:0.28156\u001b[0m\n",
      "\u001b[34m[184]#011train-rmse:0.21207#011validation-rmse:0.28137\u001b[0m\n",
      "\u001b[34m[185]#011train-rmse:0.21138#011validation-rmse:0.28091\u001b[0m\n",
      "\u001b[34m[186]#011train-rmse:0.21101#011validation-rmse:0.28085\u001b[0m\n",
      "\u001b[34m[187]#011train-rmse:0.21073#011validation-rmse:0.28078\u001b[0m\n",
      "\u001b[34m[188]#011train-rmse:0.21032#011validation-rmse:0.28063\u001b[0m\n",
      "\u001b[34m[189]#011train-rmse:0.21002#011validation-rmse:0.28046\u001b[0m\n",
      "\u001b[34m[190]#011train-rmse:0.20971#011validation-rmse:0.28023\u001b[0m\n",
      "\n",
      "2023-10-27 19:33:48 Uploading - Uploading generated training model\u001b[34m[191]#011train-rmse:0.20955#011validation-rmse:0.28032\u001b[0m\n",
      "\u001b[34m[192]#011train-rmse:0.20929#011validation-rmse:0.28024\u001b[0m\n",
      "\u001b[34m[193]#011train-rmse:0.20909#011validation-rmse:0.28031\u001b[0m\n",
      "\u001b[34m[194]#011train-rmse:0.20866#011validation-rmse:0.27994\u001b[0m\n",
      "\u001b[34m[195]#011train-rmse:0.20834#011validation-rmse:0.27995\u001b[0m\n",
      "\u001b[34m[196]#011train-rmse:0.20786#011validation-rmse:0.27967\u001b[0m\n",
      "\u001b[34m[197]#011train-rmse:0.20770#011validation-rmse:0.27962\u001b[0m\n",
      "\u001b[34m[198]#011train-rmse:0.20734#011validation-rmse:0.27977\u001b[0m\n",
      "\u001b[34m[199]#011train-rmse:0.20707#011validation-rmse:0.27956\u001b[0m\n",
      "\n",
      "2023-10-27 19:34:13 Completed - Training job completed\n",
      "Training seconds: 194\n",
      "Billable seconds: 194\n"
     ]
    }
   ],
   "source": [
    "# XGBoost supports \"train\", \"validation\" channels\n",
    "estimator.fit({'train': training_input_config, \"validation\": validation_input_config})"
   ]
  },
  {
   "cell_type": "code",
   "execution_count": 63,
   "id": "e035f22b",
   "metadata": {},
   "outputs": [],
   "source": [
    "# import pickle as pkl\n",
    "# model_file = 'xgboost-model'\n",
    "\n",
    "# booster = pkl.load(open(model_file, 'rb'))\n",
    "# booster.get_score()\n",
    "# booster.get_fscore()"
   ]
  },
  {
   "cell_type": "code",
   "execution_count": 64,
   "id": "ec16e41a",
   "metadata": {},
   "outputs": [],
   "source": [
    "# to get the feature importance from the xgboost model trained\n",
    "\n",
    "\n",
    "# import s3fs\n",
    "# import pickle\n",
    "# import tarfile\n",
    "\n",
    "\n",
    "\n",
    "# model_path = 's3://ani-sagemaker-edu/biketrain/model/xgboost-biketrain-vl-2023-10-27-19-28-14-340/output/model.tar.gz'\n",
    "\n",
    "# fs = s3fs.S3FileSystem()\n",
    "\n",
    "# with fs.open(model_path, 'rb') as f:\n",
    "#     with tarfile.open(fileobj=f, mode='r') as tar_f:\n",
    "#         with tar_f.extractfile('xgboost-model') as extracted_f:\n",
    "#             xgbooster = pickle.load(extracted_f, 'rb')\n",
    "\n",
    "# xgbooster.get_fscore()"
   ]
  },
  {
   "cell_type": "markdown",
   "id": "7224f6ed",
   "metadata": {},
   "source": [
    "### Deploy Model"
   ]
  },
  {
   "cell_type": "code",
   "execution_count": 66,
   "id": "92186566",
   "metadata": {},
   "outputs": [
    {
     "name": "stderr",
     "output_type": "stream",
     "text": [
      "INFO:sagemaker:Creating model with name: xgboost-biketrain-vl-2023-10-27-19-56-13-868\n",
      "INFO:sagemaker:Creating endpoint-config with name xgboost-biketrain-vl\n",
      "INFO:sagemaker:Creating endpoint with name xgboost-biketrain-vl\n"
     ]
    },
    {
     "name": "stdout",
     "output_type": "stream",
     "text": [
      "-------!"
     ]
    }
   ],
   "source": [
    "predictor= estimator.deploy(initial_instance_count =1, \n",
    "                           instance_type = 'ml.m4.xlarge',\n",
    "                           endpoint_name = 'xgboost-biketrain-vl')"
   ]
  },
  {
   "cell_type": "markdown",
   "id": "5154d13a",
   "metadata": {},
   "source": [
    "### Run predictions"
   ]
  },
  {
   "cell_type": "code",
   "execution_count": 27,
   "id": "7ead3251",
   "metadata": {},
   "outputs": [],
   "source": [
    "#from sagemaker.predictor import csv_serializer, json_deserializer\n",
    "\n",
    "\n",
    "# predictor.content_type = 'text/csv'\n",
    "# predictor.serializer = CSVSerializer\n",
    "# predictor.deserializer = CSVDeserializer"
   ]
  },
  {
   "cell_type": "code",
   "execution_count": 67,
   "id": "d3a13dcd",
   "metadata": {},
   "outputs": [],
   "source": [
    "from sagemaker.serializers import CSVSerializer\n",
    "predictor.serializer = CSVSerializer()\n"
   ]
  },
  {
   "cell_type": "code",
   "execution_count": 94,
   "id": "4cfc9093",
   "metadata": {},
   "outputs": [
    {
     "data": {
      "text/plain": [
       "{'predictions': [{'score': 6.008012294769287}]}"
      ]
     },
     "execution_count": 94,
     "metadata": {},
     "output_type": "execute_result"
    }
   ],
   "source": [
    "predictor.predict([[3,0,1,2,28.7,33.335,79,12.998,2011,7,7,3,8]])"
   ]
  },
  {
   "cell_type": "code",
   "execution_count": 107,
   "id": "15f7eca7",
   "metadata": {},
   "outputs": [],
   "source": [
    "result = predictor.predict([[3,0,1,2,28.7,33.335,79,12.998,2011,7,7,3,8], [3,0,1,1,32.8,34.85,33,7.0015,2012,8,13,0,14]])"
   ]
  },
  {
   "cell_type": "code",
   "execution_count": 109,
   "id": "dbb8e21c",
   "metadata": {},
   "outputs": [
    {
     "data": {
      "text/plain": [
       "5.5548529624938965"
      ]
     },
     "execution_count": 109,
     "metadata": {},
     "output_type": "execute_result"
    }
   ],
   "source": [
    "score = result['predictions'][1]['score']\n",
    "score"
   ]
  },
  {
   "cell_type": "code",
   "execution_count": 101,
   "id": "3853e23d",
   "metadata": {},
   "outputs": [],
   "source": [
    "score = float(score)"
   ]
  },
  {
   "cell_type": "code",
   "execution_count": 102,
   "id": "152d8fd7",
   "metadata": {},
   "outputs": [
    {
     "data": {
      "text/plain": [
       "6.008012294769287"
      ]
     },
     "execution_count": 102,
     "metadata": {},
     "output_type": "execute_result"
    }
   ],
   "source": [
    "score"
   ]
  },
  {
   "cell_type": "code",
   "execution_count": 103,
   "id": "df469d08",
   "metadata": {},
   "outputs": [
    {
     "data": {
      "text/plain": [
       "405.6741679912885"
      ]
     },
     "execution_count": 103,
     "metadata": {},
     "output_type": "execute_result"
    }
   ],
   "source": [
    "np.expm1(score)  # since log transformations were applied"
   ]
  },
  {
   "cell_type": "code",
   "execution_count": null,
   "id": "6fd85f27",
   "metadata": {},
   "outputs": [],
   "source": []
  },
  {
   "cell_type": "code",
   "execution_count": 76,
   "id": "19067f60",
   "metadata": {},
   "outputs": [
    {
     "name": "stdout",
     "output_type": "stream",
     "text": [
      "sagemaker.config INFO - Not applying SDK defaults from location: /etc/xdg/sagemaker/config.yaml\n",
      "sagemaker.config INFO - Not applying SDK defaults from location: /home/ec2-user/.config/sagemaker/config.yaml\n"
     ]
    }
   ],
   "source": [
    "from sagemaker.predictor import Predictor\n",
    "from sagemaker.content_types import CONTENT_TYPE_CSV, CONTENT_TYPE_JSON\n",
    "from sagemaker.serializers import CSVSerializer\n",
    "from sagemaker.deserializers import JSONDeserializer\n",
    "\n",
    "predictor = Predictor('xgboost-biketrain-vl')\n",
    "predictor.content_type = CONTENT_TYPE_CSV\n",
    "predictor.accept = CONTENT_TYPE_JSON\n",
    "predictor.serializer = CSVSerializer()\n",
    "\n",
    "#payload = '3,0,1,2,28.7,33.335,79,12.998,2011,7,7,3'\n",
    "predictor.deserializer = JSONDeserializer()"
   ]
  },
  {
   "cell_type": "code",
   "execution_count": 77,
   "id": "e48464d6",
   "metadata": {},
   "outputs": [
    {
     "name": "stdout",
     "output_type": "stream",
     "text": [
      "{'predictions': [{'score': 5.5548529624938965}]}\n"
     ]
    }
   ],
   "source": [
    "print(predictor.predict([[3,0,1,1,32.8,34.85,33,7.0015,2012,8,13,0,14]]))"
   ]
  },
  {
   "cell_type": "code",
   "execution_count": 105,
   "id": "04f3b2b2",
   "metadata": {},
   "outputs": [
    {
     "data": {
      "text/plain": [
       "5.5548529624938965"
      ]
     },
     "execution_count": 105,
     "metadata": {},
     "output_type": "execute_result"
    }
   ],
   "source": [
    "result = {'predictions': [{'score': 5.5548529624938965}]}\n",
    "score = result['predictions'][0]['score']\n",
    "score"
   ]
  },
  {
   "cell_type": "code",
   "execution_count": 106,
   "id": "c2fd8d93",
   "metadata": {},
   "outputs": [
    {
     "data": {
      "text/plain": [
       "257.4889541549934"
      ]
     },
     "execution_count": 106,
     "metadata": {},
     "output_type": "execute_result"
    }
   ],
   "source": [
    "np.expm1(score)  # actual was 248"
   ]
  },
  {
   "cell_type": "code",
   "execution_count": null,
   "id": "f828bb26",
   "metadata": {},
   "outputs": [],
   "source": []
  }
 ],
 "metadata": {
  "kernelspec": {
   "display_name": "conda_python3",
   "language": "python",
   "name": "conda_python3"
  },
  "language_info": {
   "codemirror_mode": {
    "name": "ipython",
    "version": 3
   },
   "file_extension": ".py",
   "mimetype": "text/x-python",
   "name": "python",
   "nbconvert_exporter": "python",
   "pygments_lexer": "ipython3",
   "version": "3.10.12"
  }
 },
 "nbformat": 4,
 "nbformat_minor": 5
}
