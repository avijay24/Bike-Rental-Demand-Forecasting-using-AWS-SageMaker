{
 "cells": [
  {
   "cell_type": "code",
   "execution_count": 1,
   "id": "10a2f457",
   "metadata": {},
   "outputs": [
    {
     "name": "stdout",
     "output_type": "stream",
     "text": [
      "sagemaker.config INFO - Not applying SDK defaults from location: C:\\ProgramData\\sagemaker\\sagemaker\\config.yaml\n",
      "sagemaker.config INFO - Not applying SDK defaults from location: C:\\Users\\CHETAN\\AppData\\Local\\sagemaker\\sagemaker\\config.yaml\n"
     ]
    }
   ],
   "source": [
    "import numpy as np\n",
    "import pandas as pd\n",
    "\n",
    "# Define IAM Roles\n",
    "import boto3\n",
    "import re\n",
    "import sagemaker\n",
    "from sagemaker import get_execution_role"
   ]
  },
  {
   "cell_type": "code",
   "execution_count": 2,
   "id": "8430cba4",
   "metadata": {},
   "outputs": [],
   "source": [
    "bucket_name= 'ani-sagemaker-edu' # create an S3 bucket\n",
    "training_file_key = 'biketrain/bike_train.csv'\n",
    "validation_file_key = 'biketrain/bike_val.csv'\n",
    "test_file_key = 'biketrain/bike_test.csv'"
   ]
  },
  {
   "cell_type": "code",
   "execution_count": 3,
   "id": "9f134f17",
   "metadata": {},
   "outputs": [],
   "source": [
    "s3_model_output_location = r's3://{0}/biketrain/model'.format(bucket_name)\n",
    "s3_training_file_location = r's3://{0}/{1}'.format(bucket_name, training_file_key)\n",
    "s3_validation_file_location = r's3://{0}/{1}'.format(bucket_name, validation_file_key)\n",
    "s3_test_file_location = r's3://{0}/{1}'.format(bucket_name, test_file_key)\n"
   ]
  },
  {
   "cell_type": "code",
   "execution_count": 4,
   "id": "a4de47ff",
   "metadata": {},
   "outputs": [
    {
     "name": "stdout",
     "output_type": "stream",
     "text": [
      "s3://ani-sagemaker-edu/biketrain/model\n",
      "s3://ani-sagemaker-edu/biketrain/bike_train.csv\n",
      "s3://ani-sagemaker-edu/biketrain/bike_val.csv\n",
      "s3://ani-sagemaker-edu/biketrain/bike_test.csv\n"
     ]
    }
   ],
   "source": [
    "print(s3_model_output_location)\n",
    "print(s3_training_file_location)\n",
    "print(s3_validation_file_location)\n",
    "print(s3_test_file_location)"
   ]
  },
  {
   "cell_type": "code",
   "execution_count": 5,
   "id": "70eabb66",
   "metadata": {},
   "outputs": [],
   "source": [
    "# S3 naming Conventions\n",
    "# files = objects in S3\n",
    "# filename = key name in S3\n",
    "\n",
    "def write_to_s3(filename, bucket, key):\n",
    "    with open(filename, 'rb') as f: # Read in binary mode\n",
    "            return boto3.Session().resource('s3').Bucket(bucket).Object(key).upload_fileobj(f)"
   ]
  },
  {
   "cell_type": "code",
   "execution_count": 6,
   "id": "fb4fd48f",
   "metadata": {},
   "outputs": [],
   "source": [
    "write_to_s3('bike_train.csv', bucket_name, training_file_key)\n",
    "write_to_s3('bike_val.csv', bucket_name, validation_file_key)\n",
    "write_to_s3('bike_test.csv', bucket_name, test_file_key)"
   ]
  },
  {
   "cell_type": "markdown",
   "id": "d2b5b666",
   "metadata": {},
   "source": [
    "### Training Algorithm Docker Image\n",
    "\n",
    "\n",
    "AWS maintains a separate image for every region and algorithm"
   ]
  },
  {
   "cell_type": "code",
   "execution_count": 7,
   "id": "900f690f",
   "metadata": {},
   "outputs": [],
   "source": [
    "# Registry patch for algorithms provided by SageMaker\n",
    "# https://docs.aws.amazon.com/sagemaker/latest/dg/sagemaker-algo-docker-registry-paths.html\n",
    "\n",
    "containers = {'us-east-1':'683313688378.dkr.ecr.us-east-1.amazonaws.com/sagemaker-xgboost:1.5-1'} # N.virginia"
   ]
  },
  {
   "cell_type": "code",
   "execution_count": 8,
   "id": "ab7a0715",
   "metadata": {},
   "outputs": [
    {
     "name": "stdout",
     "output_type": "stream",
     "text": [
      "sagemaker.config INFO - Not applying SDK defaults from location: /etc/xdg/sagemaker/config.yaml\n",
      "sagemaker.config INFO - Not applying SDK defaults from location: /home/ec2-user/.config/sagemaker/config.yaml\n"
     ]
    }
   ],
   "source": [
    "role = get_execution_role()"
   ]
  },
  {
   "cell_type": "code",
   "execution_count": 9,
   "id": "ed38682d",
   "metadata": {},
   "outputs": [
    {
     "name": "stdout",
     "output_type": "stream",
     "text": [
      "arn:aws:iam::205653679088:role/service-role/AmazonSageMaker-ExecutionRole-20231012T130147\n"
     ]
    }
   ],
   "source": [
    "# This role contains the permissions needed to train, deploy models\n",
    "# SageMaker Service is trusted to assume this role\n",
    "print(role)"
   ]
  },
  {
   "cell_type": "markdown",
   "id": "239f7d92",
   "metadata": {},
   "source": [
    "### Build Model"
   ]
  },
  {
   "cell_type": "code",
   "execution_count": 10,
   "id": "a6d9c9ef",
   "metadata": {},
   "outputs": [
    {
     "name": "stdout",
     "output_type": "stream",
     "text": [
      "sagemaker.config INFO - Not applying SDK defaults from location: /etc/xdg/sagemaker/config.yaml\n",
      "sagemaker.config INFO - Not applying SDK defaults from location: /home/ec2-user/.config/sagemaker/config.yaml\n"
     ]
    }
   ],
   "source": [
    "sess = sagemaker.Session()"
   ]
  },
  {
   "cell_type": "code",
   "execution_count": 12,
   "id": "af2c5357",
   "metadata": {},
   "outputs": [],
   "source": [
    "# Access appropriate algorithm container image\n",
    "# Specify how many instances to use for distributed training and what type of machine to use\n",
    "# finally specify where the trained model artifacts needs to be stored\n",
    "# reference: http://sagemaker.readthedocs.io/en/latest/estimators.html\n",
    "# Optionally, give a name to the training job using the base_job_name\n",
    "\n",
    "estimator = sagemaker.estimator.Estimator(containers[boto3.Session().region_name],\n",
    "                                         role,\n",
    "                                         instance_count = 1,\n",
    "                                         instance_type = 'ml.m4.xlarge',\n",
    "                                         output_path = s3_model_output_location,\n",
    "                                         sagemaker_session = sess,\n",
    "                                         base_job_name = 'xgboost-biketrain-vl')"
   ]
  },
  {
   "cell_type": "code",
   "execution_count": 13,
   "id": "9178270d",
   "metadata": {},
   "outputs": [
    {
     "data": {
      "text/plain": [
       "{'max_depth': 5,\n",
       " 'objective': 'reg:linear',\n",
       " 'eta': 0.1,\n",
       " 'subsample': 0.7,\n",
       " 'num_round': 150}"
      ]
     },
     "execution_count": 13,
     "metadata": {},
     "output_type": "execute_result"
    }
   ],
   "source": [
    "# Specify hyperparameters that appropriate for the training algorithm\n",
    "# XGBoost Training Parameters\n",
    "\n",
    "#max_depth = 5, eta = 0.1, subsample = 0.7, num_round = 150\n",
    "estimator.set_hyperparameters(max_depth = 5, objective = \"reg:linear\", eta = 0.1, subsample = 0.7, num_round = 150)\n",
    "estimator.hyperparameters()"
   ]
  },
  {
   "cell_type": "code",
   "execution_count": null,
   "id": "34bc0ba4",
   "metadata": {},
   "outputs": [],
   "source": [
    "# not for execution\n",
    "# How to specify hyperparameters for autotuning\n",
    "\n",
    "# hyperparameter_ranges_linear = {\n",
    "# 'alpha' : ContinuousParameter(0.01, 10, scaling_type = \"Linear\")\n",
    "# 'lambda': ContinuousParameter(0.01, 10, scaling_type = \"Linear\")\n",
    "# 'num_round' : ContinuousParameter(1, 200, scaling_type = \"Linear\")\n",
    "#}\n",
    "\n",
    "# tuner_linear = HyperparameterTuner(\n",
    "# xgb,\n",
    "# objective_metric_name,\n",
    "# hyperparameter_ranges_linear,\n",
    "# max_jobs = 20,\n",
    "# max_parallel_jobs = 10,\n",
    "# strategy= 'Random')\n",
    "\n",
    "\n",
    "#tuner_linear.fit({'train': s3_input_train, 'validation': s3_input_validation}, include_cls_metadata = False)"
   ]
  },
  {
   "cell_type": "markdown",
   "id": "5aac2030",
   "metadata": {},
   "source": [
    "### Specify Training Data Location and Optionally, Validation Data Location"
   ]
  },
  {
   "cell_type": "code",
   "execution_count": 15,
   "id": "fc1b1f71",
   "metadata": {},
   "outputs": [],
   "source": [
    "# content type can be libsvm or csv for XGBoost\n",
    "#training_input_config = sagemaker.session.s3_input(s3_data = s3_training_file_location, content_type = \"csv\")\n",
    "#validation_input_config = sagemaker.session.s3_input(s3_data = s3_validation_file_location, content_type = \"csv\")\n",
    "\n",
    "training_input_config = sagemaker.inputs.TrainingInput(s3_data = s3_training_file_location, content_type = \"csv\")\n",
    "validation_input_config = sagemaker.inputs.TrainingInput(s3_data = s3_validation_file_location, content_type = \"csv\")"
   ]
  },
  {
   "cell_type": "code",
   "execution_count": 16,
   "id": "f80f1b37",
   "metadata": {},
   "outputs": [
    {
     "name": "stdout",
     "output_type": "stream",
     "text": [
      "{'DataSource': {'S3DataSource': {'S3DataType': 'S3Prefix', 'S3Uri': 's3://ani-sagemaker-edu/biketrain/bike_train.csv', 'S3DataDistributionType': 'FullyReplicated'}}, 'ContentType': 'csv'}\n",
      "{'DataSource': {'S3DataSource': {'S3DataType': 'S3Prefix', 'S3Uri': 's3://ani-sagemaker-edu/biketrain/bike_val.csv', 'S3DataDistributionType': 'FullyReplicated'}}, 'ContentType': 'csv'}\n"
     ]
    }
   ],
   "source": [
    "print(training_input_config.config)\n",
    "print(validation_input_config.config)"
   ]
  },
  {
   "cell_type": "markdown",
   "id": "57924b65",
   "metadata": {},
   "source": [
    "### Train the model"
   ]
  },
  {
   "cell_type": "code",
   "execution_count": 17,
   "id": "862111ca",
   "metadata": {},
   "outputs": [
    {
     "name": "stderr",
     "output_type": "stream",
     "text": [
      "INFO:sagemaker:Creating training-job with name: xgboost-biketrain-vl-2023-10-18-22-00-02-676\n"
     ]
    },
    {
     "name": "stdout",
     "output_type": "stream",
     "text": [
      "2023-10-18 22:00:02 Starting - Starting the training job......\n",
      "2023-10-18 22:00:40 Starting - Preparing the instances for training......\n",
      "2023-10-18 22:01:56 Downloading - Downloading input data...\n",
      "2023-10-18 22:02:26 Training - Downloading the training image......\n",
      "2023-10-18 22:03:17 Training - Training image download completed. Training in progress..\u001b[34m[2023-10-18 22:03:26.729 ip-10-0-179-47.ec2.internal:7 INFO utils.py:28] RULE_JOB_STOP_SIGNAL_FILENAME: None\u001b[0m\n",
      "\u001b[34m[2023-10-18 22:03:26.763 ip-10-0-179-47.ec2.internal:7 INFO profiler_config_parser.py:111] User has disabled profiler.\u001b[0m\n",
      "\u001b[34m[2023-10-18:22:03:27:INFO] Imported framework sagemaker_xgboost_container.training\u001b[0m\n",
      "\u001b[34m[2023-10-18:22:03:27:INFO] Failed to parse hyperparameter objective value reg:linear to Json.\u001b[0m\n",
      "\u001b[34mReturning the value itself\u001b[0m\n",
      "\u001b[34m[2023-10-18:22:03:27:INFO] No GPUs detected (normal if no gpus installed)\u001b[0m\n",
      "\u001b[34m[2023-10-18:22:03:27:INFO] Running XGBoost Sagemaker in algorithm mode\u001b[0m\n",
      "\u001b[34m[2023-10-18:22:03:27:INFO] Determined 0 GPU(s) available on the instance.\u001b[0m\n",
      "\u001b[34m[2023-10-18:22:03:27:INFO] Determined delimiter of CSV input is ','\u001b[0m\n",
      "\u001b[34m[2023-10-18:22:03:27:INFO] Determined delimiter of CSV input is ','\u001b[0m\n",
      "\u001b[34m[2023-10-18:22:03:27:INFO] files path: /opt/ml/input/data/train\u001b[0m\n",
      "\u001b[34m[2023-10-18:22:03:27:INFO] Determined delimiter of CSV input is ','\u001b[0m\n",
      "\u001b[34m[2023-10-18:22:03:27:INFO] files path: /opt/ml/input/data/validation\u001b[0m\n",
      "\u001b[34m[2023-10-18:22:03:27:INFO] Determined delimiter of CSV input is ','\u001b[0m\n",
      "\u001b[34m[2023-10-18:22:03:27:INFO] Single node training.\u001b[0m\n",
      "\u001b[34m[2023-10-18:22:03:27:INFO] Train matrix has 7620 rows and 13 columns\u001b[0m\n",
      "\u001b[34m[2023-10-18:22:03:27:INFO] Validation matrix has 3266 rows\u001b[0m\n",
      "\u001b[34m[2023-10-18 22:03:27.285 ip-10-0-179-47.ec2.internal:7 INFO json_config.py:92] Creating hook from json_config at /opt/ml/input/config/debughookconfig.json.\u001b[0m\n",
      "\u001b[34m[2023-10-18 22:03:27.286 ip-10-0-179-47.ec2.internal:7 INFO hook.py:206] tensorboard_dir has not been set for the hook. SMDebug will not be exporting tensorboard summaries.\u001b[0m\n",
      "\u001b[34m[2023-10-18 22:03:27.287 ip-10-0-179-47.ec2.internal:7 INFO hook.py:259] Saving to /opt/ml/output/tensors\u001b[0m\n",
      "\u001b[34m[2023-10-18 22:03:27.287 ip-10-0-179-47.ec2.internal:7 INFO state_store.py:77] The checkpoint config file /opt/ml/input/config/checkpointconfig.json does not exist.\u001b[0m\n",
      "\u001b[34m[2023-10-18:22:03:27:INFO] Debug hook created from config\u001b[0m\n",
      "\u001b[34m[22:03:27] WARNING: ../src/objective/regression_obj.cu:188: reg:linear is now deprecated in favor of reg:squarederror.\u001b[0m\n",
      "\u001b[34m[0]#011train-rmse:242.17452#011validation-rmse:240.75810\u001b[0m\n",
      "\u001b[34m[2023-10-18 22:03:27.379 ip-10-0-179-47.ec2.internal:7 INFO hook.py:427] Monitoring the collections: metrics\u001b[0m\n",
      "\u001b[34m[2023-10-18 22:03:27.384 ip-10-0-179-47.ec2.internal:7 INFO hook.py:491] Hook is writing from the hook with pid: 7\u001b[0m\n",
      "\u001b[34m[1]#011train-rmse:222.78468#011validation-rmse:221.50205\u001b[0m\n",
      "\u001b[34m[2]#011train-rmse:205.73621#011validation-rmse:204.41441\u001b[0m\n",
      "\u001b[34m[3]#011train-rmse:190.65387#011validation-rmse:189.29538\u001b[0m\n",
      "\u001b[34m[4]#011train-rmse:177.53909#011validation-rmse:176.27565\u001b[0m\n",
      "\u001b[34m[5]#011train-rmse:166.16899#011validation-rmse:164.92937\u001b[0m\n",
      "\u001b[34m[6]#011train-rmse:155.98355#011validation-rmse:154.72790\u001b[0m\n",
      "\u001b[34m[7]#011train-rmse:146.60652#011validation-rmse:145.48447\u001b[0m\n",
      "\u001b[34m[8]#011train-rmse:138.61313#011validation-rmse:137.69173\u001b[0m\n",
      "\u001b[34m[9]#011train-rmse:131.60110#011validation-rmse:130.94298\u001b[0m\n",
      "\u001b[34m[10]#011train-rmse:124.12886#011validation-rmse:123.77825\u001b[0m\n",
      "\u001b[34m[11]#011train-rmse:118.51148#011validation-rmse:118.26640\u001b[0m\n",
      "\u001b[34m[12]#011train-rmse:114.09596#011validation-rmse:113.99312\u001b[0m\n",
      "\u001b[34m[13]#011train-rmse:108.54923#011validation-rmse:108.67917\u001b[0m\n",
      "\u001b[34m[14]#011train-rmse:101.67158#011validation-rmse:102.26738\u001b[0m\n",
      "\u001b[34m[15]#011train-rmse:97.50867#011validation-rmse:98.21636\u001b[0m\n",
      "\u001b[34m[16]#011train-rmse:93.79706#011validation-rmse:94.76344\u001b[0m\n",
      "\u001b[34m[17]#011train-rmse:89.71034#011validation-rmse:90.94972\u001b[0m\n",
      "\u001b[34m[18]#011train-rmse:86.65340#011validation-rmse:88.07462\u001b[0m\n",
      "\u001b[34m[19]#011train-rmse:82.43194#011validation-rmse:84.03526\u001b[0m\n",
      "\u001b[34m[20]#011train-rmse:77.86835#011validation-rmse:79.84966\u001b[0m\n",
      "\u001b[34m[21]#011train-rmse:75.29611#011validation-rmse:77.37069\u001b[0m\n",
      "\u001b[34m[22]#011train-rmse:71.76510#011validation-rmse:74.11554\u001b[0m\n",
      "\u001b[34m[23]#011train-rmse:70.19639#011validation-rmse:72.59849\u001b[0m\n",
      "\u001b[34m[24]#011train-rmse:68.68765#011validation-rmse:71.25202\u001b[0m\n",
      "\u001b[34m[25]#011train-rmse:66.86601#011validation-rmse:69.54707\u001b[0m\n",
      "\u001b[34m[26]#011train-rmse:65.55754#011validation-rmse:68.36470\u001b[0m\n",
      "\u001b[34m[27]#011train-rmse:63.22964#011validation-rmse:66.34411\u001b[0m\n",
      "\u001b[34m[28]#011train-rmse:62.30008#011validation-rmse:65.44720\u001b[0m\n",
      "\u001b[34m[29]#011train-rmse:60.96130#011validation-rmse:64.29491\u001b[0m\n",
      "\u001b[34m[30]#011train-rmse:58.87376#011validation-rmse:62.38264\u001b[0m\n",
      "\u001b[34m[31]#011train-rmse:58.21254#011validation-rmse:61.73144\u001b[0m\n",
      "\u001b[34m[32]#011train-rmse:57.27232#011validation-rmse:60.91390\u001b[0m\n",
      "\u001b[34m[33]#011train-rmse:56.51085#011validation-rmse:60.32896\u001b[0m\n",
      "\u001b[34m[34]#011train-rmse:55.27099#011validation-rmse:59.23111\u001b[0m\n",
      "\u001b[34m[35]#011train-rmse:54.67604#011validation-rmse:58.71088\u001b[0m\n",
      "\u001b[34m[36]#011train-rmse:54.10674#011validation-rmse:58.14891\u001b[0m\n",
      "\u001b[34m[37]#011train-rmse:52.30137#011validation-rmse:56.46550\u001b[0m\n",
      "\u001b[34m[38]#011train-rmse:51.82476#011validation-rmse:56.07042\u001b[0m\n",
      "\u001b[34m[39]#011train-rmse:50.27773#011validation-rmse:54.72006\u001b[0m\n",
      "\u001b[34m[40]#011train-rmse:49.90530#011validation-rmse:54.40316\u001b[0m\n",
      "\u001b[34m[41]#011train-rmse:49.58538#011validation-rmse:54.12450\u001b[0m\n",
      "\u001b[34m[42]#011train-rmse:49.26886#011validation-rmse:53.85930\u001b[0m\n",
      "\u001b[34m[43]#011train-rmse:48.84246#011validation-rmse:53.47564\u001b[0m\n",
      "\u001b[34m[44]#011train-rmse:48.65900#011validation-rmse:53.27219\u001b[0m\n",
      "\u001b[34m[45]#011train-rmse:48.27621#011validation-rmse:52.94802\u001b[0m\n",
      "\u001b[34m[46]#011train-rmse:47.81441#011validation-rmse:52.45631\u001b[0m\n",
      "\u001b[34m[47]#011train-rmse:47.53925#011validation-rmse:52.24154\u001b[0m\n",
      "\u001b[34m[48]#011train-rmse:47.37212#011validation-rmse:52.11508\u001b[0m\n",
      "\u001b[34m[49]#011train-rmse:47.05662#011validation-rmse:51.87067\u001b[0m\n",
      "\u001b[34m[50]#011train-rmse:46.55902#011validation-rmse:51.45282\u001b[0m\n",
      "\u001b[34m[51]#011train-rmse:46.37470#011validation-rmse:51.30014\u001b[0m\n",
      "\u001b[34m[52]#011train-rmse:45.49530#011validation-rmse:50.58729\u001b[0m\n",
      "\u001b[34m[53]#011train-rmse:45.25889#011validation-rmse:50.38954\u001b[0m\n",
      "\u001b[34m[54]#011train-rmse:44.59150#011validation-rmse:49.81332\u001b[0m\n",
      "\u001b[34m[55]#011train-rmse:44.45806#011validation-rmse:49.67299\u001b[0m\n",
      "\u001b[34m[56]#011train-rmse:43.99183#011validation-rmse:49.28662\u001b[0m\n",
      "\u001b[34m[57]#011train-rmse:43.84775#011validation-rmse:49.19295\u001b[0m\n",
      "\u001b[34m[58]#011train-rmse:43.16381#011validation-rmse:48.58322\u001b[0m\n",
      "\u001b[34m[59]#011train-rmse:42.72850#011validation-rmse:48.24292\u001b[0m\n",
      "\u001b[34m[60]#011train-rmse:42.58232#011validation-rmse:48.11326\u001b[0m\n",
      "\u001b[34m[61]#011train-rmse:42.42053#011validation-rmse:48.00942\u001b[0m\n",
      "\u001b[34m[62]#011train-rmse:41.95343#011validation-rmse:47.66133\u001b[0m\n",
      "\u001b[34m[63]#011train-rmse:41.77943#011validation-rmse:47.55590\u001b[0m\n",
      "\u001b[34m[64]#011train-rmse:41.56452#011validation-rmse:47.38987\u001b[0m\n",
      "\u001b[34m[65]#011train-rmse:41.46845#011validation-rmse:47.25864\u001b[0m\n",
      "\u001b[34m[66]#011train-rmse:41.28693#011validation-rmse:47.09253\u001b[0m\n",
      "\u001b[34m[67]#011train-rmse:41.12956#011validation-rmse:46.97349\u001b[0m\n",
      "\u001b[34m[68]#011train-rmse:40.83069#011validation-rmse:46.69524\u001b[0m\n",
      "\u001b[34m[69]#011train-rmse:40.72064#011validation-rmse:46.61514\u001b[0m\n",
      "\u001b[34m[70]#011train-rmse:40.63829#011validation-rmse:46.54627\u001b[0m\n",
      "\u001b[34m[71]#011train-rmse:40.57407#011validation-rmse:46.46997\u001b[0m\n",
      "\u001b[34m[72]#011train-rmse:40.40610#011validation-rmse:46.40331\u001b[0m\n",
      "\u001b[34m[73]#011train-rmse:40.33686#011validation-rmse:46.34270\u001b[0m\n",
      "\u001b[34m[74]#011train-rmse:40.18032#011validation-rmse:46.19321\u001b[0m\n",
      "\u001b[34m[75]#011train-rmse:39.91863#011validation-rmse:46.05475\u001b[0m\n",
      "\u001b[34m[76]#011train-rmse:39.83326#011validation-rmse:45.98196\u001b[0m\n",
      "\u001b[34m[77]#011train-rmse:39.57139#011validation-rmse:45.76671\u001b[0m\n",
      "\u001b[34m[78]#011train-rmse:39.44671#011validation-rmse:45.67999\u001b[0m\n",
      "\u001b[34m[79]#011train-rmse:39.31247#011validation-rmse:45.57407\u001b[0m\n",
      "\u001b[34m[80]#011train-rmse:39.12297#011validation-rmse:45.45283\u001b[0m\n",
      "\u001b[34m[81]#011train-rmse:38.91503#011validation-rmse:45.24181\u001b[0m\n",
      "\u001b[34m[82]#011train-rmse:38.83571#011validation-rmse:45.20496\u001b[0m\n",
      "\u001b[34m[83]#011train-rmse:38.63320#011validation-rmse:45.09744\u001b[0m\n",
      "\u001b[34m[84]#011train-rmse:38.51826#011validation-rmse:45.04749\u001b[0m\n",
      "\u001b[34m[85]#011train-rmse:38.34527#011validation-rmse:44.89888\u001b[0m\n",
      "\u001b[34m[86]#011train-rmse:38.04598#011validation-rmse:44.64881\u001b[0m\n",
      "\u001b[34m[87]#011train-rmse:37.93549#011validation-rmse:44.56692\u001b[0m\n",
      "\u001b[34m[88]#011train-rmse:37.83250#011validation-rmse:44.46963\u001b[0m\n",
      "\u001b[34m[89]#011train-rmse:37.68760#011validation-rmse:44.37250\u001b[0m\n",
      "\u001b[34m[90]#011train-rmse:37.62902#011validation-rmse:44.32109\u001b[0m\n",
      "\u001b[34m[91]#011train-rmse:37.47388#011validation-rmse:44.26776\u001b[0m\n",
      "\u001b[34m[92]#011train-rmse:37.34542#011validation-rmse:44.16885\u001b[0m\n",
      "\u001b[34m[93]#011train-rmse:37.15463#011validation-rmse:44.04314\u001b[0m\n",
      "\u001b[34m[94]#011train-rmse:37.03065#011validation-rmse:43.98516\u001b[0m\n",
      "\u001b[34m[95]#011train-rmse:36.84869#011validation-rmse:43.79995\u001b[0m\n",
      "\u001b[34m[96]#011train-rmse:36.71661#011validation-rmse:43.78302\u001b[0m\n",
      "\u001b[34m[97]#011train-rmse:36.53196#011validation-rmse:43.65121\u001b[0m\n",
      "\u001b[34m[98]#011train-rmse:36.41562#011validation-rmse:43.62594\u001b[0m\n",
      "\u001b[34m[99]#011train-rmse:36.23749#011validation-rmse:43.48895\u001b[0m\n",
      "\u001b[34m[100]#011train-rmse:36.19255#011validation-rmse:43.47691\u001b[0m\n",
      "\u001b[34m[101]#011train-rmse:36.07687#011validation-rmse:43.42027\u001b[0m\n",
      "\u001b[34m[102]#011train-rmse:35.94040#011validation-rmse:43.29754\u001b[0m\n",
      "\u001b[34m[103]#011train-rmse:35.88255#011validation-rmse:43.28117\u001b[0m\n",
      "\u001b[34m[104]#011train-rmse:35.83171#011validation-rmse:43.25754\u001b[0m\n",
      "\u001b[34m[105]#011train-rmse:35.57493#011validation-rmse:43.07658\u001b[0m\n",
      "\u001b[34m[106]#011train-rmse:35.51405#011validation-rmse:43.04874\u001b[0m\n",
      "\u001b[34m[107]#011train-rmse:35.45260#011validation-rmse:43.02038\u001b[0m\n",
      "\u001b[34m[108]#011train-rmse:35.38467#011validation-rmse:42.97422\u001b[0m\n",
      "\u001b[34m[109]#011train-rmse:35.24897#011validation-rmse:42.92542\u001b[0m\n",
      "\u001b[34m[110]#011train-rmse:35.13837#011validation-rmse:42.82396\u001b[0m\n",
      "\u001b[34m[111]#011train-rmse:34.99694#011validation-rmse:42.73893\u001b[0m\n",
      "\u001b[34m[112]#011train-rmse:34.91985#011validation-rmse:42.69205\u001b[0m\n",
      "\u001b[34m[113]#011train-rmse:34.78783#011validation-rmse:42.60723\u001b[0m\n",
      "\u001b[34m[114]#011train-rmse:34.67702#011validation-rmse:42.49982\u001b[0m\n",
      "\u001b[34m[115]#011train-rmse:34.57005#011validation-rmse:42.41954\u001b[0m\n",
      "\u001b[34m[116]#011train-rmse:34.43281#011validation-rmse:42.31156\u001b[0m\n",
      "\u001b[34m[117]#011train-rmse:34.34441#011validation-rmse:42.27347\u001b[0m\n",
      "\u001b[34m[118]#011train-rmse:34.22690#011validation-rmse:42.22280\u001b[0m\n",
      "\u001b[34m[119]#011train-rmse:34.18460#011validation-rmse:42.18883\u001b[0m\n",
      "\u001b[34m[120]#011train-rmse:34.10445#011validation-rmse:42.17060\u001b[0m\n",
      "\u001b[34m[121]#011train-rmse:33.98257#011validation-rmse:42.12743\u001b[0m\n",
      "\u001b[34m[122]#011train-rmse:33.91821#011validation-rmse:42.10042\u001b[0m\n",
      "\u001b[34m[123]#011train-rmse:33.85207#011validation-rmse:42.06475\u001b[0m\n",
      "\u001b[34m[124]#011train-rmse:33.75364#011validation-rmse:42.00523\u001b[0m\n",
      "\u001b[34m[125]#011train-rmse:33.64911#011validation-rmse:41.91740\u001b[0m\n",
      "\u001b[34m[126]#011train-rmse:33.54332#011validation-rmse:41.88145\u001b[0m\n",
      "\u001b[34m[127]#011train-rmse:33.47441#011validation-rmse:41.80893\u001b[0m\n",
      "\u001b[34m[128]#011train-rmse:33.45569#011validation-rmse:41.80509\u001b[0m\n",
      "\u001b[34m[129]#011train-rmse:33.37216#011validation-rmse:41.75228\u001b[0m\n",
      "\u001b[34m[130]#011train-rmse:33.30882#011validation-rmse:41.74281\u001b[0m\n",
      "\u001b[34m[131]#011train-rmse:33.27106#011validation-rmse:41.71088\u001b[0m\n",
      "\u001b[34m[132]#011train-rmse:33.22924#011validation-rmse:41.70414\u001b[0m\n",
      "\u001b[34m[133]#011train-rmse:33.19039#011validation-rmse:41.67468\u001b[0m\n",
      "\u001b[34m[134]#011train-rmse:33.09524#011validation-rmse:41.63837\u001b[0m\n",
      "\u001b[34m[135]#011train-rmse:33.03833#011validation-rmse:41.64362\u001b[0m\n",
      "\u001b[34m[136]#011train-rmse:32.94334#011validation-rmse:41.57190\u001b[0m\n",
      "\u001b[34m[137]#011train-rmse:32.89466#011validation-rmse:41.56718\u001b[0m\n",
      "\u001b[34m[138]#011train-rmse:32.84031#011validation-rmse:41.52913\u001b[0m\n",
      "\u001b[34m[139]#011train-rmse:32.77819#011validation-rmse:41.49836\u001b[0m\n",
      "\u001b[34m[140]#011train-rmse:32.70817#011validation-rmse:41.44863\u001b[0m\n",
      "\u001b[34m[141]#011train-rmse:32.68229#011validation-rmse:41.44923\u001b[0m\n",
      "\u001b[34m[142]#011train-rmse:32.62225#011validation-rmse:41.40713\u001b[0m\n",
      "\u001b[34m[143]#011train-rmse:32.57738#011validation-rmse:41.40320\u001b[0m\n",
      "\u001b[34m[144]#011train-rmse:32.49427#011validation-rmse:41.35874\u001b[0m\n",
      "\u001b[34m[145]#011train-rmse:32.44070#011validation-rmse:41.38159\u001b[0m\n",
      "\u001b[34m[146]#011train-rmse:32.35544#011validation-rmse:41.32474\u001b[0m\n",
      "\u001b[34m[147]#011train-rmse:32.32335#011validation-rmse:41.31231\u001b[0m\n",
      "\u001b[34m[148]#011train-rmse:32.29031#011validation-rmse:41.31907\u001b[0m\n",
      "\u001b[34m[149]#011train-rmse:32.22246#011validation-rmse:41.30551\u001b[0m\n"
     ]
    },
    {
     "name": "stdout",
     "output_type": "stream",
     "text": [
      "\n",
      "2023-10-18 22:03:48 Uploading - Uploading generated training model\n",
      "2023-10-18 22:03:48 Completed - Training job completed\n",
      "Training seconds: 112\n",
      "Billable seconds: 112\n"
     ]
    }
   ],
   "source": [
    "# XGBoost supports \"train\", \"validation\" channels\n",
    "estimator.fit({'train': training_input_config, \"validation\": validation_input_config})"
   ]
  },
  {
   "cell_type": "code",
   "execution_count": null,
   "id": "67500410",
   "metadata": {},
   "outputs": [],
   "source": [
    "eval_result = estimator.evals_result()"
   ]
  },
  {
   "cell_type": "code",
   "execution_count": null,
   "id": "19b1258d",
   "metadata": {},
   "outputs": [],
   "source": [
    "training_rounds = range(len(eval_result['validation_0']['rmse']))"
   ]
  },
  {
   "cell_type": "code",
   "execution_count": null,
   "id": "671ef6ae",
   "metadata": {},
   "outputs": [],
   "source": [
    "plt.scatter(x=training_rounds,y=eval_result['validation_0']['rmse'],label='Training Error')\n",
    "plt.scatter(x=training_rounds,y=eval_result['validation_1']['rmse'],label='Validation Error')\n",
    "plt.grid(True)\n",
    "plt.xlabel('Iteration')\n",
    "plt.ylabel('RMSE')\n",
    "plt.title('Training Vs Validation Error')\n",
    "plt.legend()\n",
    "plt.show()"
   ]
  },
  {
   "cell_type": "code",
   "execution_count": null,
   "id": "6d39ac1b",
   "metadata": {},
   "outputs": [],
   "source": [
    "estimator.plot_importance(regressor)\n",
    "plt.show()"
   ]
  },
  {
   "cell_type": "code",
   "execution_count": null,
   "id": "ac9985b6",
   "metadata": {},
   "outputs": [],
   "source": [
    "# Updated - Changed to validation dataset\n",
    "# Compare actual vs predicted performance with dataset not seen by the model before\n",
    "df_v = pd.read_csv('bike_val.csv',names=columns)"
   ]
  },
  {
   "cell_type": "code",
   "execution_count": null,
   "id": "78569637",
   "metadata": {},
   "outputs": [],
   "source": [
    "df_v.head()"
   ]
  },
  {
   "cell_type": "code",
   "execution_count": null,
   "id": "163a5a41",
   "metadata": {},
   "outputs": [],
   "source": [
    "X_test = df.iloc[:,1:]\n",
    "print(X_test[:5])"
   ]
  },
  {
   "cell_type": "code",
   "execution_count": null,
   "id": "cfe063d0",
   "metadata": {},
   "outputs": [],
   "source": [
    "result = estimator.predict(X_test)"
   ]
  },
  {
   "cell_type": "code",
   "execution_count": null,
   "id": "01948370",
   "metadata": {},
   "outputs": [],
   "source": [
    "result[:5]"
   ]
  },
  {
   "cell_type": "code",
   "execution_count": null,
   "id": "6483186b",
   "metadata": {},
   "outputs": [],
   "source": [
    "df_v['count_predicted'] = result"
   ]
  },
  {
   "cell_type": "code",
   "execution_count": null,
   "id": "361e8d1b",
   "metadata": {},
   "outputs": [],
   "source": [
    "df_v.head()"
   ]
  },
  {
   "cell_type": "code",
   "execution_count": null,
   "id": "9e1f1822",
   "metadata": {},
   "outputs": [],
   "source": [
    "# Negative Values are predicted\n",
    "df_v['count_predicted'].describe()"
   ]
  },
  {
   "cell_type": "code",
   "execution_count": null,
   "id": "a34613df",
   "metadata": {},
   "outputs": [],
   "source": [
    "df_v[df_v['count_predicted'] < 0]"
   ]
  },
  {
   "cell_type": "code",
   "execution_count": null,
   "id": "eb9e87e5",
   "metadata": {},
   "outputs": [],
   "source": [
    "def adjust_count(x):\n",
    "    if x < 0:\n",
    "        return 0\n",
    "    else:\n",
    "        return x"
   ]
  },
  {
   "cell_type": "code",
   "execution_count": null,
   "id": "066dad56",
   "metadata": {},
   "outputs": [],
   "source": [
    "df_v['count_predicted'] = df_v['count_predicted'].map(adjust_count)"
   ]
  },
  {
   "cell_type": "code",
   "execution_count": null,
   "id": "e1a01fbf",
   "metadata": {},
   "outputs": [],
   "source": [
    "df_v[df_v['count_predicted'] < 0]"
   ]
  },
  {
   "cell_type": "code",
   "execution_count": null,
   "id": "a29786eb",
   "metadata": {},
   "outputs": [],
   "source": [
    "df_v['count'] = df_v['count'].map(np.expm1)\n",
    "df_v['count_predicted'] = df_v['count_predicted'].map(np.expm1)"
   ]
  },
  {
   "cell_type": "code",
   "execution_count": null,
   "id": "4cb460a0",
   "metadata": {},
   "outputs": [],
   "source": [
    "# Actual Vs Predicted\n",
    "plt.plot(df_v['count'], label='Actual')\n",
    "plt.plot(df_v['count_predicted'],label='Predicted')\n",
    "plt.xlabel('Sample')\n",
    "plt.ylabel('Count')\n",
    "plt.xlim([100,150])\n",
    "plt.title('Validation Dataset - Predicted Vs. Actual')\n",
    "plt.legend()\n",
    "plt.show()"
   ]
  },
  {
   "cell_type": "code",
   "execution_count": null,
   "id": "371ef9ae",
   "metadata": {},
   "outputs": [],
   "source": [
    "# Over prediction and Under Prediction needs to be balanced\n",
    "# Training Data Residuals\n",
    "residuals = (df_v['count'] - df_v['count_predicted'])\n",
    "\n",
    "plt.hist(residuals)\n",
    "plt.grid(True)\n",
    "plt.xlabel('Actual - Predicted')\n",
    "plt.ylabel('Count')\n",
    "plt.title('Residuals Distribution')\n",
    "plt.axvline(color='r')\n",
    "plt.show()"
   ]
  },
  {
   "cell_type": "code",
   "execution_count": null,
   "id": "8273f706",
   "metadata": {},
   "outputs": [],
   "source": [
    "value_counts = (residuals > 0).value_counts(sort=False)\n",
    "print(' Under Estimation: {0:.2f}'.format(value_counts[True]/len(residuals)))\n",
    "print(' Over  Estimation: {0:.2f}'.format(value_counts[False]/len(residuals)))"
   ]
  },
  {
   "cell_type": "code",
   "execution_count": null,
   "id": "85bc71ec",
   "metadata": {},
   "outputs": [],
   "source": [
    "import sklearn.metrics as metrics\n",
    "print(\"RMSE: {0:.2f}\".format(metrics.mean_squared_error(df_v['count'],\n",
    "                                                    df_v['count_predicted'])**.5))"
   ]
  },
  {
   "cell_type": "code",
   "execution_count": null,
   "id": "72347c25",
   "metadata": {},
   "outputs": [],
   "source": []
  },
  {
   "cell_type": "code",
   "execution_count": null,
   "id": "0e9841b1",
   "metadata": {},
   "outputs": [],
   "source": []
  },
  {
   "cell_type": "markdown",
   "id": "7224f6ed",
   "metadata": {},
   "source": [
    "### Deploy Model"
   ]
  },
  {
   "cell_type": "code",
   "execution_count": 18,
   "id": "92186566",
   "metadata": {},
   "outputs": [
    {
     "name": "stderr",
     "output_type": "stream",
     "text": [
      "INFO:sagemaker:Creating model with name: xgboost-biketrain-vl-2023-10-18-22-05-44-169\n",
      "INFO:sagemaker:Creating endpoint-config with name xgboost-biketrain-vl\n",
      "INFO:sagemaker:Creating endpoint with name xgboost-biketrain-vl\n"
     ]
    },
    {
     "name": "stdout",
     "output_type": "stream",
     "text": [
      "-------!"
     ]
    }
   ],
   "source": [
    "predictor= estimator.deploy(initial_instance_count =1, \n",
    "                           instance_type = 'ml.m4.xlarge',\n",
    "                           endpoint_name = 'xgboost-biketrain-vl')"
   ]
  },
  {
   "cell_type": "markdown",
   "id": "5154d13a",
   "metadata": {},
   "source": [
    "### Run predictions"
   ]
  },
  {
   "cell_type": "code",
   "execution_count": 27,
   "id": "7ead3251",
   "metadata": {},
   "outputs": [],
   "source": [
    "#from sagemaker.predictor import csv_serializer, json_deserializer\n",
    "\n",
    "\n",
    "# predictor.content_type = 'text/csv'\n",
    "# predictor.serializer = CSVSerializer\n",
    "# predictor.deserializer = CSVDeserializer"
   ]
  },
  {
   "cell_type": "code",
   "execution_count": null,
   "id": "d3a13dcd",
   "metadata": {},
   "outputs": [],
   "source": [
    "from sagemaker.serializers import CSVSerializer\n",
    "predictor.serializer = CSVSerializer()\n"
   ]
  },
  {
   "cell_type": "code",
   "execution_count": null,
   "id": "15f7eca7",
   "metadata": {},
   "outputs": [],
   "source": [
    "predictor.predict([[3,0,1,2,28.7,33.335,79,12.998,2011,7,7,3]])"
   ]
  },
  {
   "cell_type": "code",
   "execution_count": null,
   "id": "dbb8e21c",
   "metadata": {},
   "outputs": [],
   "source": []
  },
  {
   "cell_type": "code",
   "execution_count": null,
   "id": "f3c8d07b",
   "metadata": {},
   "outputs": [],
   "source": []
  },
  {
   "cell_type": "code",
   "execution_count": 46,
   "id": "19067f60",
   "metadata": {},
   "outputs": [
    {
     "name": "stdout",
     "output_type": "stream",
     "text": [
      "sagemaker.config INFO - Not applying SDK defaults from location: /etc/xdg/sagemaker/config.yaml\n",
      "sagemaker.config INFO - Not applying SDK defaults from location: /home/ec2-user/.config/sagemaker/config.yaml\n"
     ]
    }
   ],
   "source": [
    "from sagemaker.predictor import Predictorq\n",
    "from sagemaker.content_types import CONTENT_TYPE_CSV, CONTENT_TYPE_JSON\n",
    "from sagemaker.serializers import CSVSerializer\n",
    "from sagemaker.deserializers import JSONDeserializer\n",
    "\n",
    "predictor = Predictor('xgboost-biketrain-vl')\n",
    "predictor.content_type = CONTENT_TYPE_CSV\n",
    "predictor.accept = CONTENT_TYPE_JSON\n",
    "predictor.serializer = CSVSerializer()\n",
    "\n",
    "#payload = '3,0,1,2,28.7,33.335,79,12.998,2011,7,7,3'\n",
    "predictor.deserializer = JSONDeserializer()"
   ]
  },
  {
   "cell_type": "code",
   "execution_count": 47,
   "id": "e48464d6",
   "metadata": {},
   "outputs": [
    {
     "name": "stdout",
     "output_type": "stream",
     "text": [
      "{'predictions': [{'score': 272.4788513183594}]}\n"
     ]
    }
   ],
   "source": [
    "print(predictor.predict([[3,0,1,1,32.8,34.85,33,7.0015,2012,8,13,0,14]]))"
   ]
  }
 ],
 "metadata": {
  "kernelspec": {
   "display_name": "Python 3 (ipykernel)",
   "language": "python",
   "name": "python3"
  },
  "language_info": {
   "codemirror_mode": {
    "name": "ipython",
    "version": 3
   },
   "file_extension": ".py",
   "mimetype": "text/x-python",
   "name": "python",
   "nbconvert_exporter": "python",
   "pygments_lexer": "ipython3",
   "version": "3.11.3"
  }
 },
 "nbformat": 4,
 "nbformat_minor": 5
}
